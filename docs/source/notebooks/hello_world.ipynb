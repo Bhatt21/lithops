{
 "cells": [
  {
   "cell_type": "markdown",
   "metadata": {
    "pycharm": {
     "name": "#%% md\n"
    }
   },
   "source": [
    "# Hello World\n",
    ".. todo:: Add examples"
   ]
  },
  {
   "cell_type": "code",
   "execution_count": 2,
   "metadata": {
    "collapsed": false,
    "jupyter": {
     "outputs_hidden": false
    },
    "pycharm": {
     "name": "#%%\n"
    }
   },
   "outputs": [
    {
     "name": "stderr",
     "output_type": "stream",
     "text": [
      "2021-09-14 10:01:06,033 [INFO] lithops.config -- Lithops v2.4.1.dev0\n",
      "2021-09-14 10:01:06,048 [INFO] lithops.storage.backends.localhost.localhost -- Localhost Storage client created\n",
      "2021-09-14 10:01:06,048 [INFO] lithops.localhost.localhost -- Localhost compute client created\n",
      "2021-09-14 10:01:06,049 [INFO] lithops.invokers -- ExecutorID 41d251-1 | JobID A000 - Selected Runtime: python3 \n",
      "2021-09-14 10:01:06,049 [INFO] lithops.invokers -- Runtime python3 is not yet installed\n",
      "2021-09-14 10:01:06,050 [INFO] lithops.localhost.localhost -- Extracting preinstalled Python modules from python3\n",
      "2021-09-14 10:01:06,334 [INFO] lithops.invokers -- ExecutorID 41d251-1 | JobID A000 - Starting function invocation: my_function() - Total: 1 activations\n",
      "2021-09-14 10:01:06,339 [INFO] lithops.invokers -- ExecutorID 41d251-1 | JobID A000 - View execution logs at /tmp/lithops/logs/41d251-1-A000.log\n",
      "2021-09-14 10:01:06,341 [INFO] lithops.wait -- ExecutorID 41d251-1 - Getting results from functions\n"
     ]
    },
    {
     "data": {
      "application/vnd.jupyter.widget-view+json": {
       "model_id": "5a24a5247a63493badec667ca755703f",
       "version_major": 2,
       "version_minor": 0
      },
      "text/plain": [
       "    0%|          | 0/1  "
      ]
     },
     "metadata": {},
     "output_type": "display_data"
    },
    {
     "name": "stderr",
     "output_type": "stream",
     "text": [
      "2021-09-14 10:01:08,468 [INFO] lithops.executors -- ExecutorID 41d251-1 - Cleaning temporary data\n"
     ]
    },
    {
     "name": "stdout",
     "output_type": "stream",
     "text": [
      "10\n"
     ]
    }
   ],
   "source": [
    "\"\"\"\n",
    "Simple Lithops example using one single function invocation\n",
    "\"\"\"\n",
    "import lithops\n",
    "\n",
    "\n",
    "def my_function(x):\n",
    "    return x + 7\n",
    "\n",
    "\n",
    "if __name__ == '__main__':\n",
    "    fexec = lithops.FunctionExecutor()\n",
    "    fexec.call_async(my_function, 3)\n",
    "    print(fexec.get_result())"
   ]
  },
  {
   "cell_type": "code",
   "execution_count": null,
   "metadata": {},
   "outputs": [],
   "source": []
  }
 ],
 "metadata": {
  "kernelspec": {
   "display_name": "lithops-dev",
   "language": "python",
   "name": "lithops-dev"
  },
  "language_info": {
   "codemirror_mode": {
    "name": "ipython",
    "version": 3
   },
   "file_extension": ".py",
   "mimetype": "text/x-python",
   "name": "python",
   "nbconvert_exporter": "python",
   "pygments_lexer": "ipython3",
   "version": "3.8.10"
  }
 },
 "nbformat": 4,
 "nbformat_minor": 4
}
